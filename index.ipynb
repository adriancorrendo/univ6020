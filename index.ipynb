{
  "cells": [
    {
      "cell_type": "raw",
      "metadata": {},
      "source": [
        "---\n",
        "title: \"Reproducible Ag Data Science with R\"\n",
        "format:\n",
        "  html:\n",
        "    fontsize: 1.25em\n",
        "    embed-resources: true\n",
        "---"
      ],
      "id": "297401dd"
    },
    {
      "cell_type": "markdown",
      "metadata": {},
      "source": [
        "Welcome 🍂\n",
        "\n",
        "::: callout-note\n",
        "For our Friday coding session, it is expected that students have:\n",
        "\n",
        "i\\. the latest version of R & [RStudio](https://www.rstudio.com/products/rstudio/download/) installed.\n",
        ":::\n",
        "\n",
        "# Slides\n",
        "\n",
        "## Day 1\n",
        "\n",
        "\n",
        "```{html }\n",
        "<iframe class=\"slide-deck\" src=\"docs/day1.html\"></iframe>\n",
        "```\n",
        "\n",
        "\n",
        "## Day 2\n",
        "\n",
        "\n",
        "```{html }\n",
        "<iframe class=\"slide-deck\" src=\"docs/day2.html\"></iframe>\n",
        "```"
      ],
      "id": "cfb862bb"
    }
  ],
  "metadata": {
    "kernelspec": {
      "display_name": "Python 3",
      "language": "python",
      "name": "python3"
    }
  },
  "nbformat": 4,
  "nbformat_minor": 5
}